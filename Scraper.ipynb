{
  "cells": [
    {
      "cell_type": "markdown",
      "id": "8e69b804",
      "metadata": {
        "id": "8e69b804"
      },
      "source": [
        "## Scraping"
      ]
    },
    {
      "cell_type": "code",
      "execution_count": null,
      "id": "d7c9fc80",
      "metadata": {
        "colab": {
          "base_uri": "https://localhost:8080/"
        },
        "id": "d7c9fc80",
        "outputId": "763c46d3-f6cf-431b-a2a4-b3939e867679"
      },
      "outputs": [
        {
          "output_type": "stream",
          "name": "stdout",
          "text": [
            "Looking in indexes: https://pypi.org/simple, https://us-python.pkg.dev/colab-wheels/public/simple/\n",
            "Requirement already satisfied: snscrape in /usr/local/lib/python3.7/dist-packages (0.3.4)\n",
            "Requirement already satisfied: lxml in /usr/local/lib/python3.7/dist-packages (from snscrape) (4.9.1)\n",
            "Requirement already satisfied: requests[socks] in /usr/local/lib/python3.7/dist-packages (from snscrape) (2.23.0)\n",
            "Requirement already satisfied: beautifulsoup4 in /usr/local/lib/python3.7/dist-packages (from snscrape) (4.6.3)\n",
            "Requirement already satisfied: urllib3!=1.25.0,!=1.25.1,<1.26,>=1.21.1 in /usr/local/lib/python3.7/dist-packages (from requests[socks]->snscrape) (1.24.3)\n",
            "Requirement already satisfied: certifi>=2017.4.17 in /usr/local/lib/python3.7/dist-packages (from requests[socks]->snscrape) (2022.9.24)\n",
            "Requirement already satisfied: chardet<4,>=3.0.2 in /usr/local/lib/python3.7/dist-packages (from requests[socks]->snscrape) (3.0.4)\n",
            "Requirement already satisfied: idna<3,>=2.5 in /usr/local/lib/python3.7/dist-packages (from requests[socks]->snscrape) (2.10)\n",
            "Requirement already satisfied: PySocks!=1.5.7,>=1.5.6 in /usr/local/lib/python3.7/dist-packages (from requests[socks]->snscrape) (1.7.1)\n",
            "Looking in indexes: https://pypi.org/simple, https://us-python.pkg.dev/colab-wheels/public/simple/\n",
            "Requirement already satisfied: progressbar2 in /usr/local/lib/python3.7/dist-packages (3.38.0)\n",
            "Requirement already satisfied: python-utils>=2.3.0 in /usr/local/lib/python3.7/dist-packages (from progressbar2) (3.3.3)\n",
            "Requirement already satisfied: six in /usr/local/lib/python3.7/dist-packages (from progressbar2) (1.15.0)\n",
            "Looking in indexes: https://pypi.org/simple, https://us-python.pkg.dev/colab-wheels/public/simple/\n",
            "Requirement already satisfied: pyenchant in /usr/local/lib/python3.7/dist-packages (3.2.2)\n"
          ]
        }
      ],
      "source": [
        "# !pip3 install snscrape\n",
        "# !pip install progressbar2\n",
        "# !pip install pyenchant"
      ]
    },
    {
      "cell_type": "markdown",
      "source": [
        "#### Imports"
      ],
      "metadata": {
        "id": "L-iHBAh1QthE"
      },
      "id": "L-iHBAh1QthE"
    },
    {
      "cell_type": "code",
      "execution_count": null,
      "id": "78d49ffb",
      "metadata": {
        "id": "78d49ffb"
      },
      "outputs": [],
      "source": [
        "import snscrape.modules.twitter as sntwitter\n",
        "import pandas as pd\n",
        "import progressbar\n",
        "from time import sleep\n",
        "from datetime import datetime\n",
        "import os\n",
        "import pandas as pd\n",
        "import re"
      ]
    },
    {
      "cell_type": "markdown",
      "source": [
        "#### Set Search Tags"
      ],
      "metadata": {
        "id": "ZcbsPO3kQzlu"
      },
      "id": "ZcbsPO3kQzlu"
    },
    {
      "cell_type": "code",
      "source": [
        "dates = pd.date_range(start='1/1/2013', end='10/22/2022')\n",
        "dates"
      ],
      "metadata": {
        "colab": {
          "base_uri": "https://localhost:8080/"
        },
        "id": "zZtOOtNz0EAX",
        "outputId": "3c707bb3-1560-42e6-82f6-f7313a0ea08c"
      },
      "id": "zZtOOtNz0EAX",
      "execution_count": null,
      "outputs": [
        {
          "output_type": "execute_result",
          "data": {
            "text/plain": [
              "DatetimeIndex(['2013-01-01', '2013-01-02', '2013-01-03', '2013-01-04',\n",
              "               '2013-01-05', '2013-01-06', '2013-01-07', '2013-01-08',\n",
              "               '2013-01-09', '2013-01-10',\n",
              "               ...\n",
              "               '2022-10-13', '2022-10-14', '2022-10-15', '2022-10-16',\n",
              "               '2022-10-17', '2022-10-18', '2022-10-19', '2022-10-20',\n",
              "               '2022-10-21', '2022-10-22'],\n",
              "              dtype='datetime64[ns]', length=3582, freq='D')"
            ]
          },
          "metadata": {},
          "execution_count": 2
        }
      ]
    },
    {
      "cell_type": "code",
      "source": [
        "search_tags = ['bitcoin' , 'etherium']\n",
        "\n",
        "companywise_tags = []\n",
        "for i in search_tags:\n",
        "  \n",
        "  datewise = []\n",
        "  for j in range(len(dates)):\n",
        "\n",
        "      if j < len(dates) - 1:\n",
        "          tag = i + f' since:{str(dates[j].date())} until:{str(dates[j + 1].date())}'\n",
        "          datewise.append(tag)\n",
        "  companywise_tags.append(datewise)"
      ],
      "metadata": {
        "id": "zA_UVunb0bA3"
      },
      "id": "zA_UVunb0bA3",
      "execution_count": null,
      "outputs": []
    },
    {
      "cell_type": "code",
      "source": [
        "companies = {\n",
        "            'bit': companywise_tags[0],\n",
        "            'eth': companywise_tags[1]\n",
        "           } "
      ],
      "metadata": {
        "id": "8wCk5SdT60AG"
      },
      "id": "8wCk5SdT60AG",
      "execution_count": null,
      "outputs": []
    },
    {
      "cell_type": "markdown",
      "source": [
        "#### Collect Data"
      ],
      "metadata": {
        "id": "XSb_pcHpSVvp"
      },
      "id": "XSb_pcHpSVvp"
    },
    {
      "cell_type": "code",
      "execution_count": null,
      "id": "d92dfe17",
      "metadata": {
        "colab": {
          "base_uri": "https://localhost:8080/"
        },
        "id": "d92dfe17",
        "outputId": "ad6cec8b-ded9-405f-a1ae-8436a298b337"
      },
      "outputs": [
        {
          "output_type": "stream",
          "name": "stderr",
          "text": [
            "\r                                                                               \r\r[                                                                        ] N/A%"
          ]
        },
        {
          "output_type": "stream",
          "name": "stdout",
          "text": [
            "\n",
            "\n",
            " PSO\n"
          ]
        },
        {
          "output_type": "stream",
          "name": "stderr",
          "text": [
            "[------------------------------------------------------------------------] 100%\n",
            "[                                                                        ] N/A%"
          ]
        },
        {
          "output_type": "stream",
          "name": "stdout",
          "text": [
            "\n",
            "\n",
            " HBL\n"
          ]
        },
        {
          "output_type": "stream",
          "name": "stderr",
          "text": [
            "\r                                                                               \r\r[------------------------------------------------------------------------] 100%\n"
          ]
        }
      ],
      "source": [
        "today = datetime.today().strftime('%Y%m%d')[2:]+'_'\n",
        "\n",
        "for index, company in enumerate(companies): # Indexes Through Tag\n",
        "    print(\"\\n\\n\" , company)\n",
        "\n",
        "    bar = progressbar.ProgressBar(maxval = len(companies[company]), widgets = [progressbar.Bar('-', '[', ']'), ' ', progressbar.Percentage()])\n",
        "    bar.start()\n",
        "    tweets = []\n",
        "    for k, value in enumerate(companies[company]): # Indexes Through Dates \n",
        "\n",
        "       for i, tweet in enumerate(sntwitter.TwitterSearchScraper(f'{value}').get_items()): # Indexes Through Tweets\n",
        "          bar.update(i + 1)\n",
        "\n",
        "          if i > 100000: #number of tweets you want to scrape (per day)\n",
        "              break        \n",
        "          tweets.append([tweet.date, tweet.content, tweet.username]) #attributes to be returned\n",
        "\n",
        "    df = pd.DataFrame(tweets, columns=['Datetime', 'Text', 'Username'])\n",
        "    df[['Datetime', 'Text','Username']].to_csv(f'{company}tweets.csv')\n",
        "\n",
        "    bar.finish()"
      ]
    }
  ],
  "metadata": {
    "kernelspec": {
      "display_name": "Python 3 (ipykernel)",
      "language": "python",
      "name": "python3"
    },
    "language_info": {
      "codemirror_mode": {
        "name": "ipython",
        "version": 3
      },
      "file_extension": ".py",
      "mimetype": "text/x-python",
      "name": "python",
      "nbconvert_exporter": "python",
      "pygments_lexer": "ipython3",
      "version": "3.9.7"
    },
    "colab": {
      "provenance": []
    }
  },
  "nbformat": 4,
  "nbformat_minor": 5
}
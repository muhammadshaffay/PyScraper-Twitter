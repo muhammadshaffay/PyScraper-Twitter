{
  "cells": [
    {
      "cell_type": "markdown",
      "id": "0b239049",
      "metadata": {
        "id": "0b239049"
      },
      "source": [
        "# Data Cleaning"
      ]
    },
    {
      "cell_type": "markdown",
      "source": [
        "#### Imports"
      ],
      "metadata": {
        "id": "xnf9TbyZS5Bl"
      },
      "id": "xnf9TbyZS5Bl"
    },
    {
      "cell_type": "code",
      "execution_count": null,
      "id": "0ece5f61",
      "metadata": {
        "id": "0ece5f61"
      },
      "outputs": [],
      "source": [
        "import snscrape.modules.twitter as sntwitter\n",
        "import pandas as pd\n",
        "import progressbar\n",
        "from time import sleep\n",
        "from datetime import datetime\n",
        "import os\n",
        "import pandas as pd\n",
        "import re\n",
        "import enchant"
      ]
    },
    {
      "cell_type": "markdown",
      "source": [
        "#### Polluted Dataset"
      ],
      "metadata": {
        "id": "4WQkfBBaT44k"
      },
      "id": "4WQkfBBaT44k"
    },
    {
      "cell_type": "code",
      "execution_count": null,
      "id": "0fd9c0e3",
      "metadata": {
        "id": "0fd9c0e3"
      },
      "outputs": [],
      "source": [
        "data = pd.read_csv('polluted_data.csv')\n",
        "data = data[['Datetime','Text']]"
      ]
    },
    {
      "cell_type": "code",
      "execution_count": null,
      "id": "3989fc4f",
      "metadata": {
        "id": "3989fc4f",
        "outputId": "37f1f7f5-c28e-41aa-dd2e-bbae2bb2944d"
      },
      "outputs": [
        {
          "data": {
            "text/html": [
              "<div>\n",
              "<style scoped>\n",
              "    .dataframe tbody tr th:only-of-type {\n",
              "        vertical-align: middle;\n",
              "    }\n",
              "\n",
              "    .dataframe tbody tr th {\n",
              "        vertical-align: top;\n",
              "    }\n",
              "\n",
              "    .dataframe thead th {\n",
              "        text-align: right;\n",
              "    }\n",
              "</style>\n",
              "<table border=\"1\" class=\"dataframe\">\n",
              "  <thead>\n",
              "    <tr style=\"text-align: right;\">\n",
              "      <th></th>\n",
              "      <th>Datetime</th>\n",
              "      <th>Text</th>\n",
              "    </tr>\n",
              "  </thead>\n",
              "  <tbody>\n",
              "    <tr>\n",
              "      <th>0</th>\n",
              "      <td>2022-07-09 23:59:54+00:00</td>\n",
              "      <td>Ethereum (ETH) Fondo finalmente en?  Analista ...</td>\n",
              "    </tr>\n",
              "    <tr>\n",
              "      <th>1</th>\n",
              "      <td>2022-07-09 23:59:39+00:00</td>\n",
              "      <td>Bought this cute girl from @ItsukiNFT Check th...</td>\n",
              "    </tr>\n",
              "    <tr>\n",
              "      <th>2</th>\n",
              "      <td>2022-07-09 23:59:12+00:00</td>\n",
              "      <td>#Bitcoin Last Price $21588 #BTC 🚀\\nDaily Indic...</td>\n",
              "    </tr>\n",
              "    <tr>\n",
              "      <th>3</th>\n",
              "      <td>2022-07-09 23:59:04+00:00</td>\n",
              "      <td>@hiharveen @WatcherGuru Fact is it doesn’t mat...</td>\n",
              "    </tr>\n",
              "    <tr>\n",
              "      <th>4</th>\n",
              "      <td>2022-07-09 23:58:12+00:00</td>\n",
              "      <td>#Bitcoin Last Price $21597 #BTC 🚀\\nDaily Indic...</td>\n",
              "    </tr>\n",
              "    <tr>\n",
              "      <th>...</th>\n",
              "      <td>...</td>\n",
              "      <td>...</td>\n",
              "    </tr>\n",
              "    <tr>\n",
              "      <th>200000</th>\n",
              "      <td>2021-08-24 19:07:09+00:00</td>\n",
              "      <td>#Ethereum GOD MODE 🔥🐻🔫🐻🔫\\n\\n11.27 $ETH has bee...</td>\n",
              "    </tr>\n",
              "    <tr>\n",
              "      <th>200001</th>\n",
              "      <td>2021-08-24 19:06:39+00:00</td>\n",
              "      <td>Getting closer now!\\n\\nWhat #Ethereum chain to...</td>\n",
              "    </tr>\n",
              "    <tr>\n",
              "      <th>200002</th>\n",
              "      <td>2021-08-24 19:05:23+00:00</td>\n",
              "      <td>🤓🤔👍 #knownews #$BTC #bitcoin #bnb #CryptoCurre...</td>\n",
              "    </tr>\n",
              "    <tr>\n",
              "      <th>200003</th>\n",
              "      <td>2021-08-24 19:04:44+00:00</td>\n",
              "      <td>🇺🇸暗号化取引所大手Kraken、Ethereum 2.0ブロックチェーンのアップグレードの...</td>\n",
              "    </tr>\n",
              "    <tr>\n",
              "      <th>200004</th>\n",
              "      <td>2021-08-24 19:04:40+00:00</td>\n",
              "      <td>Origin Axie #532 was sold for 5.9 ETH ($19582....</td>\n",
              "    </tr>\n",
              "  </tbody>\n",
              "</table>\n",
              "<p>200005 rows × 2 columns</p>\n",
              "</div>"
            ],
            "text/plain": [
              "                         Datetime  \\\n",
              "0       2022-07-09 23:59:54+00:00   \n",
              "1       2022-07-09 23:59:39+00:00   \n",
              "2       2022-07-09 23:59:12+00:00   \n",
              "3       2022-07-09 23:59:04+00:00   \n",
              "4       2022-07-09 23:58:12+00:00   \n",
              "...                           ...   \n",
              "200000  2021-08-24 19:07:09+00:00   \n",
              "200001  2021-08-24 19:06:39+00:00   \n",
              "200002  2021-08-24 19:05:23+00:00   \n",
              "200003  2021-08-24 19:04:44+00:00   \n",
              "200004  2021-08-24 19:04:40+00:00   \n",
              "\n",
              "                                                     Text  \n",
              "0       Ethereum (ETH) Fondo finalmente en?  Analista ...  \n",
              "1       Bought this cute girl from @ItsukiNFT Check th...  \n",
              "2       #Bitcoin Last Price $21588 #BTC 🚀\\nDaily Indic...  \n",
              "3       @hiharveen @WatcherGuru Fact is it doesn’t mat...  \n",
              "4       #Bitcoin Last Price $21597 #BTC 🚀\\nDaily Indic...  \n",
              "...                                                   ...  \n",
              "200000  #Ethereum GOD MODE 🔥🐻🔫🐻🔫\\n\\n11.27 $ETH has bee...  \n",
              "200001  Getting closer now!\\n\\nWhat #Ethereum chain to...  \n",
              "200002  🤓🤔👍 #knownews #$BTC #bitcoin #bnb #CryptoCurre...  \n",
              "200003  🇺🇸暗号化取引所大手Kraken、Ethereum 2.0ブロックチェーンのアップグレードの...  \n",
              "200004  Origin Axie #532 was sold for 5.9 ETH ($19582....  \n",
              "\n",
              "[200005 rows x 2 columns]"
            ]
          },
          "execution_count": 24,
          "metadata": {},
          "output_type": "execute_result"
        }
      ],
      "source": [
        "data"
      ]
    },
    {
      "cell_type": "code",
      "execution_count": null,
      "id": "e07e8e3b",
      "metadata": {
        "id": "e07e8e3b",
        "outputId": "f26e603f-c804-4828-f8b4-2df5d97f2376"
      },
      "outputs": [
        {
          "data": {
            "text/plain": [
              "200005"
            ]
          },
          "execution_count": 25,
          "metadata": {},
          "output_type": "execute_result"
        }
      ],
      "source": [
        "tweets = []\n",
        "dates= []\n",
        "\n",
        "for tweet in data['Text']:\n",
        "    tweets.append(tweet)\n",
        "    \n",
        "for date in data['Datetime']:\n",
        "    dates.append(date)\n",
        "    \n",
        "len(tweets)"
      ]
    },
    {
      "cell_type": "markdown",
      "source": [
        "#### Remove Special Characters"
      ],
      "metadata": {
        "id": "hC1xtTevTB_Z"
      },
      "id": "hC1xtTevTB_Z"
    },
    {
      "cell_type": "code",
      "execution_count": null,
      "id": "fa95d4fd",
      "metadata": {
        "id": "fa95d4fd"
      },
      "outputs": [],
      "source": [
        "for i in range(len(tweets)):\n",
        "    \n",
        "    clean_tweet = tweets[i]\n",
        "    \n",
        "    clean_tweet = re.sub(\"@[A-Za-z0-9_]+\",\"\", clean_tweet)\n",
        "    clean_tweet = re.sub(\"#[A-Za-z0-9_]+\",\"\", clean_tweet)\n",
        "    clean_tweet = clean_tweet.replace('\\n', '')\n",
        "    clean_tweet = re.sub(r\"http\\S+\", \"\", clean_tweet)\n",
        "    clean_tweet = clean_tweet.lower()\n",
        "    tweets[i] = clean_tweet"
      ]
    },
    {
      "cell_type": "code",
      "execution_count": null,
      "id": "83e34fd1",
      "metadata": {
        "id": "83e34fd1"
      },
      "outputs": [],
      "source": [
        "array = ['0','1','2','3','4','5','6','7','8','9',' ','a','b','c','d','e','f','g','h','i','j','k','l','m','n','o','p','q','r','s','t','u','v','w','x','y','z','$',',','.']\n",
        "for i in range(len(tweets)):\n",
        "    \n",
        "    tweet = \"\"\n",
        "    for j in tweets[i]:\n",
        "        if j not in array:\n",
        "            j = \" \"\n",
        "            tweet += j\n",
        "        else:\n",
        "            tweet += j\n",
        "    tweets[i] = tweet"
      ]
    },
    {
      "cell_type": "markdown",
      "source": [
        "#### Remove Irrelevant Tweets"
      ],
      "metadata": {
        "id": "WLnFHERhTIlv"
      },
      "id": "WLnFHERhTIlv"
    },
    {
      "cell_type": "code",
      "execution_count": null,
      "id": "ffbfc5e6",
      "metadata": {
        "id": "ffbfc5e6"
      },
      "outputs": [],
      "source": [
        "for i in range(len(tweets)):\n",
        "    if 'etherium' not in tweets[i]:\n",
        "        if 'eth' not in tweets[i]:\n",
        "            tweets[i] = ''"
      ]
    },
    {
      "cell_type": "code",
      "execution_count": null,
      "id": "6fe6d88b",
      "metadata": {
        "id": "6fe6d88b"
      },
      "outputs": [],
      "source": [
        "cleaned_tweets = []\n",
        "cleaned_dates = []\n",
        "\n",
        "for i in range(len(tweets)):\n",
        "    if tweets[i] != '':\n",
        "        cleaned_tweets.append(tweets[i])\n",
        "        cleaned_dates.append(dates[i])"
      ]
    },
    {
      "cell_type": "code",
      "execution_count": null,
      "id": "1610d92e",
      "metadata": {
        "id": "1610d92e",
        "outputId": "13c5989e-66ac-48c4-a72b-499834705fb0"
      },
      "outputs": [
        {
          "data": {
            "text/plain": [
              "101622"
            ]
          },
          "execution_count": 30,
          "metadata": {},
          "output_type": "execute_result"
        }
      ],
      "source": [
        "len(cleaned_tweets)"
      ]
    },
    {
      "cell_type": "code",
      "execution_count": null,
      "id": "d13122a3",
      "metadata": {
        "id": "d13122a3",
        "outputId": "0fd743d5-33b0-4c41-a2f0-2a16af1bb059"
      },
      "outputs": [
        {
          "data": {
            "text/plain": [
              "101622"
            ]
          },
          "execution_count": 31,
          "metadata": {},
          "output_type": "execute_result"
        }
      ],
      "source": [
        "len(cleaned_dates)"
      ]
    },
    {
      "cell_type": "markdown",
      "source": [
        "#### Remove Extra Shorter Tweets"
      ],
      "metadata": {
        "id": "SzLTOyxHTOGk"
      },
      "id": "SzLTOyxHTOGk"
    },
    {
      "cell_type": "code",
      "execution_count": null,
      "id": "2f0778d3",
      "metadata": {
        "id": "2f0778d3",
        "outputId": "09f83dcf-ccca-4337-c2ba-b6bb2a23b8d2"
      },
      "outputs": [
        {
          "name": "stdout",
          "output_type": "stream",
          "text": [
            "2723\n"
          ]
        }
      ],
      "source": [
        "counter = 0\n",
        "for i in range(len(cleaned_tweets)):\n",
        "    if len(cleaned_tweets[i]) < 30:\n",
        "        counter += 1\n",
        "print(counter)       "
      ]
    },
    {
      "cell_type": "markdown",
      "source": [
        "#### Remove Non-English Tweets"
      ],
      "metadata": {
        "id": "jfvGmLNrTS-e"
      },
      "id": "jfvGmLNrTS-e"
    },
    {
      "cell_type": "code",
      "execution_count": null,
      "id": "41f75103",
      "metadata": {
        "id": "41f75103"
      },
      "outputs": [],
      "source": [
        "words = []\n",
        "for i in range(len(cleaned_tweets)):\n",
        "    words.append(cleaned_tweets[i].split(' '))\n",
        "    \n",
        "dictionary = enchant.Dict(\"en_US\")\n",
        "english_words = []"
      ]
    },
    {
      "cell_type": "code",
      "execution_count": null,
      "id": "320121a7",
      "metadata": {
        "id": "320121a7",
        "outputId": "54676b7d-14ee-4920-8c42-fa286aad18a1"
      },
      "outputs": [
        {
          "data": {
            "text/plain": [
              "101622"
            ]
          },
          "execution_count": 14,
          "metadata": {},
          "output_type": "execute_result"
        }
      ],
      "source": [
        "len(words)"
      ]
    },
    {
      "cell_type": "markdown",
      "source": [
        "#### Remove Redundant Tweets"
      ],
      "metadata": {
        "id": "GfZwdo7oTY25"
      },
      "id": "GfZwdo7oTY25"
    },
    {
      "cell_type": "code",
      "execution_count": null,
      "id": "b3d70ace",
      "metadata": {
        "id": "b3d70ace"
      },
      "outputs": [],
      "source": [
        "new_words = []\n",
        "new_list = []\n",
        "\n",
        "for i in words:\n",
        "    for j in i:\n",
        "        if j != '':\n",
        "            new_list.append(j)\n",
        "    new_words.append(new_list)\n",
        "    new_list = []"
      ]
    },
    {
      "cell_type": "code",
      "execution_count": null,
      "id": "231820df",
      "metadata": {
        "id": "231820df"
      },
      "outputs": [],
      "source": [
        "words = new_words"
      ]
    },
    {
      "cell_type": "code",
      "execution_count": null,
      "id": "04cd1ad9",
      "metadata": {
        "id": "04cd1ad9"
      },
      "outputs": [],
      "source": [
        "for i in range(len(words)):\n",
        "    \n",
        "    string = ' '.join(words[i])\n",
        "    words[i] = string"
      ]
    },
    {
      "cell_type": "markdown",
      "source": [
        "#### Clean Dataset"
      ],
      "metadata": {
        "id": "RbGu29IQTkyc"
      },
      "id": "RbGu29IQTkyc"
    },
    {
      "cell_type": "code",
      "execution_count": null,
      "id": "95e352fe",
      "metadata": {
        "id": "95e352fe",
        "outputId": "76792d9b-9239-4634-f6ce-523db24077ba"
      },
      "outputs": [
        {
          "data": {
            "text/html": [
              "<div>\n",
              "<style scoped>\n",
              "    .dataframe tbody tr th:only-of-type {\n",
              "        vertical-align: middle;\n",
              "    }\n",
              "\n",
              "    .dataframe tbody tr th {\n",
              "        vertical-align: top;\n",
              "    }\n",
              "\n",
              "    .dataframe thead th {\n",
              "        text-align: right;\n",
              "    }\n",
              "</style>\n",
              "<table border=\"1\" class=\"dataframe\">\n",
              "  <thead>\n",
              "    <tr style=\"text-align: right;\">\n",
              "      <th></th>\n",
              "      <th>Time</th>\n",
              "      <th>Text</th>\n",
              "    </tr>\n",
              "  </thead>\n",
              "  <tbody>\n",
              "    <tr>\n",
              "      <th>0</th>\n",
              "      <td>2022-07-09 23:59:54+00:00</td>\n",
              "      <td>ethereum eth fondo finalmente en analista macr...</td>\n",
              "    </tr>\n",
              "    <tr>\n",
              "      <th>1</th>\n",
              "      <td>2022-07-09 23:59:04+00:00</td>\n",
              "      <td>fact is it doesn t matter even if eth is a com...</td>\n",
              "    </tr>\n",
              "    <tr>\n",
              "      <th>2</th>\n",
              "      <td>2022-07-09 23:55:28+00:00</td>\n",
              "      <td>ethereum peluang arbitrase yang anda miliki be...</td>\n",
              "    </tr>\n",
              "    <tr>\n",
              "      <th>3</th>\n",
              "      <td>2022-07-09 23:55:23+00:00</td>\n",
              "      <td>jeeted both my saudi nfts for a total of 2.6 e...</td>\n",
              "    </tr>\n",
              "    <tr>\n",
              "      <th>4</th>\n",
              "      <td>2022-07-09 23:55:18+00:00</td>\n",
              "      <td>ethereum price predictionprice rise in 60 min....</td>\n",
              "    </tr>\n",
              "    <tr>\n",
              "      <th>5</th>\n",
              "      <td>2022-07-09 23:53:57+00:00</td>\n",
              "      <td>perhaps it is the composability fan in me that...</td>\n",
              "    </tr>\n",
              "    <tr>\n",
              "      <th>6</th>\n",
              "      <td>2022-07-09 23:53:17+00:00</td>\n",
              "      <td>ethereum prediction resultsell 2.46 eth for 1,...</td>\n",
              "    </tr>\n",
              "    <tr>\n",
              "      <th>7</th>\n",
              "      <td>2022-07-09 23:52:31+00:00</td>\n",
              "      <td>new trending coin on coingecko 24 change 1.6 ....</td>\n",
              "    </tr>\n",
              "    <tr>\n",
              "      <th>8</th>\n",
              "      <td>2022-07-09 23:52:17+00:00</td>\n",
              "      <td>punk 6332 bought for 144.95 eth $176,637.52 us...</td>\n",
              "    </tr>\n",
              "    <tr>\n",
              "      <th>9</th>\n",
              "      <td>2022-07-09 23:52:09+00:00</td>\n",
              "      <td>there is now 13 million $eth deposited in the ...</td>\n",
              "    </tr>\n",
              "  </tbody>\n",
              "</table>\n",
              "</div>"
            ],
            "text/plain": [
              "                        Time  \\\n",
              "0  2022-07-09 23:59:54+00:00   \n",
              "1  2022-07-09 23:59:04+00:00   \n",
              "2  2022-07-09 23:55:28+00:00   \n",
              "3  2022-07-09 23:55:23+00:00   \n",
              "4  2022-07-09 23:55:18+00:00   \n",
              "5  2022-07-09 23:53:57+00:00   \n",
              "6  2022-07-09 23:53:17+00:00   \n",
              "7  2022-07-09 23:52:31+00:00   \n",
              "8  2022-07-09 23:52:17+00:00   \n",
              "9  2022-07-09 23:52:09+00:00   \n",
              "\n",
              "                                                Text  \n",
              "0  ethereum eth fondo finalmente en analista macr...  \n",
              "1  fact is it doesn t matter even if eth is a com...  \n",
              "2  ethereum peluang arbitrase yang anda miliki be...  \n",
              "3  jeeted both my saudi nfts for a total of 2.6 e...  \n",
              "4  ethereum price predictionprice rise in 60 min....  \n",
              "5  perhaps it is the composability fan in me that...  \n",
              "6  ethereum prediction resultsell 2.46 eth for 1,...  \n",
              "7  new trending coin on coingecko 24 change 1.6 ....  \n",
              "8  punk 6332 bought for 144.95 eth $176,637.52 us...  \n",
              "9  there is now 13 million $eth deposited in the ...  "
            ]
          },
          "execution_count": 19,
          "metadata": {},
          "output_type": "execute_result"
        }
      ],
      "source": [
        "dataframe = pd.DataFrame()\n",
        "dataframe['Time'] = cleaned_dates\n",
        "dataframe['Text'] = words\n",
        "dataframe.head(10)"
      ]
    },
    {
      "cell_type": "code",
      "execution_count": null,
      "id": "62252fcc",
      "metadata": {
        "id": "62252fcc"
      },
      "outputs": [],
      "source": [
        "dataframe.to_csv(\"clean_dataset.csv\")"
      ]
    }
  ],
  "metadata": {
    "kernelspec": {
      "display_name": "Python 3 (ipykernel)",
      "language": "python",
      "name": "python3"
    },
    "language_info": {
      "codemirror_mode": {
        "name": "ipython",
        "version": 3
      },
      "file_extension": ".py",
      "mimetype": "text/x-python",
      "name": "python",
      "nbconvert_exporter": "python",
      "pygments_lexer": "ipython3",
      "version": "3.9.7"
    },
    "colab": {
      "provenance": []
    }
  },
  "nbformat": 4,
  "nbformat_minor": 5
}